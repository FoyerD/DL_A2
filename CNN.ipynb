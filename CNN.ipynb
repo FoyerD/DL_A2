{
 "cells": [
  {
   "cell_type": "code",
   "execution_count": null,
   "id": "a47d574b",
   "metadata": {},
   "outputs": [
    {
     "name": "stdout",
     "output_type": "stream",
     "text": [
      "Current working directory: /sise/home/amitfoye/code_files/DL_A2\n"
     ]
    }
   ],
   "source": [
    "import pandas as pd\n",
    "import torch.nn as nn\n",
    "import os\n",
    "from sklearn.model_selection import train_test_split\n",
    "from PIL import Image\n",
    "from torchvision import transforms\n",
    "import torch\n",
    "import random\n",
    "import os\n",
    "\n",
    "cwd = os.getcwd()\n",
    "print(\"Current working directory:\", cwd)"
   ]
  },
  {
   "cell_type": "markdown",
   "id": "27512ef1",
   "metadata": {},
   "source": [
    "# Load The Dataset"
   ]
  },
  {
   "cell_type": "markdown",
   "id": "93232086",
   "metadata": {},
   "source": [
    "### Paths"
   ]
  },
  {
   "cell_type": "code",
   "execution_count": 2,
   "id": "d8482292",
   "metadata": {},
   "outputs": [],
   "source": [
    "dataset_path = os.path.join(cwd, \"lfw\")\n",
    "images_path = os.path.join(dataset_path, \"lfw-deepfunneled\", \"lfw-deepfunneled\")\n",
    "\n",
    "match_dev_test_path = os.path.join(dataset_path, \"matchpairsDevTest.csv\")\n",
    "match_dev_train_path = os.path.join(dataset_path, \"matchpairsDevTrain.csv\")\n",
    "match_dev_val_path = os.path.join(dataset_path, \"matchpairsDevVal.csv\")\n",
    "\n",
    "mismatch_dev_test_path = os.path.join(dataset_path, \"mismatchpairsDevTest.csv\")\n",
    "mismatch_dev_train_path = os.path.join(dataset_path, \"mismatchpairsDevTrain.csv\")\n",
    "mismatch_dev_val_path = os.path.join(dataset_path, \"mismatchpairsDevVal.csv\")\n"
   ]
  },
  {
   "cell_type": "markdown",
   "id": "2da9317b",
   "metadata": {},
   "source": [
    "## Load The Data"
   ]
  },
  {
   "cell_type": "code",
   "execution_count": 3,
   "id": "cddde338",
   "metadata": {},
   "outputs": [
    {
     "name": "stdout",
     "output_type": "stream",
     "text": [
      "                    name1  imagenum1                         name2  imagenum2\n",
      "0                AJ_Lamas          1                   Zach_Safrin          1\n",
      "1             Aaron_Guiel          1             Reese_Witherspoon          3\n",
      "2            Aaron_Tippin          1  Jose_Luis_Rodriguez_Zapatero          1\n",
      "3  Abdul_Majeed_Shobokshi          1                  Charles_Cope          1\n",
      "4            Abdullah_Gul         16                     Steve_Cox          1\n"
     ]
    }
   ],
   "source": [
    "match_dev_test_df = pd.read_csv(match_dev_test_path)\n",
    "match_dev_train_df = pd.read_csv(match_dev_train_path)\n",
    "mismatch_dev_test_df = pd.read_csv(mismatch_dev_test_path)\n",
    "mismatch_dev_train_df = pd.read_csv(mismatch_dev_train_path)\n",
    "\n",
    "print(mismatch_dev_test_df.head())"
   ]
  },
  {
   "cell_type": "markdown",
   "id": "be3e817e",
   "metadata": {},
   "source": [
    "### Split Into Validation Set"
   ]
  },
  {
   "cell_type": "code",
   "execution_count": 5,
   "id": "ebc02cdd",
   "metadata": {},
   "outputs": [],
   "source": [
    "match_dev_train_df, match_dev_val_df = train_test_split(\n",
    "    match_dev_train_df, test_size=0.2, random_state=42\n",
    ")\n",
    "mismatch_dev_train_df, mismatch_dev_val_df = train_test_split(\n",
    "    mismatch_dev_train_df, test_size=0.2, random_state=42\n",
    ")"
   ]
  },
  {
   "cell_type": "markdown",
   "id": "e18d5457",
   "metadata": {},
   "source": [
    "### Loading The Images"
   ]
  },
  {
   "cell_type": "code",
   "execution_count": 6,
   "id": "e93b9f56",
   "metadata": {},
   "outputs": [],
   "source": [
    "# Create a dictionary to store the images\n",
    "images_memo = {}"
   ]
  },
  {
   "cell_type": "code",
   "execution_count": 7,
   "id": "ce06dbc7",
   "metadata": {},
   "outputs": [],
   "source": [
    "transform = transforms.Compose([\n",
    "    transforms.Resize((250, 250)),       # Resize to match model input\n",
    "    transforms.ToTensor(),               # Converts to [C, H, W] tensor and scales to [0, 1]\n",
    "    transforms.Normalize(                # Normalize with ImageNet mean/std if using pretrained model\n",
    "        mean=[0.485, 0.456, 0.406],      \n",
    "        std=[0.229, 0.224, 0.225]\n",
    "    )\n",
    "])\n",
    "\n",
    "def load_mismatch_images(person1, image1, person2, image2):\n",
    "    if(person1, image1) not in images_memo:\n",
    "        image1_path = os.path.join(images_path, person1, f\"{person1}_{image1:04d}.jpg\")\n",
    "        actual_image1 = Image.open(image1_path).convert('RGB')\n",
    "        transformed = transform(actual_image1)\n",
    "        images_memo[(person1, image1)] = transformed\n",
    "    if(person2, image2) not in images_memo:\n",
    "        image2_path = os.path.join(images_path, person2, f\"{person2}_{image2:04d}.jpg\")\n",
    "        actual_image2 = Image.open(image2_path).convert('RGB')\n",
    "        transformed = transform(actual_image2)\n",
    "        images_memo[(person2, image2)] = actual_image2\n",
    "    \n",
    "    \n",
    "    return images_memo[(person1, image1)], images_memo[(person2, image2)]\n",
    "\n",
    "\n",
    "def load_match_images(person, image1, image2):\n",
    "    return load_mismatch_images(person, image1, person, image2)"
   ]
  },
  {
   "cell_type": "code",
   "execution_count": 8,
   "id": "ea9c7d78",
   "metadata": {},
   "outputs": [],
   "source": [
    "def make_minibatches(df, batch_size):\n",
    "    \"\"\"\n",
    "    Create minibatches from the dataframe.\n",
    "    \"\"\"\n",
    "    for i in range(0, len(df), batch_size):\n",
    "        batch_df = df.iloc[i:i + batch_size]\n",
    "        images1 = []\n",
    "        images2 = []\n",
    "        labels = []\n",
    "        \n",
    "        for _, row in batch_df.iterrows():\n",
    "            if len(row) == 3:\n",
    "                image1, image2 = load_match_images(row['name'], row['imagenum1'], row['imagenum2'])\n",
    "                label = 1\n",
    "            elif len(row) == 4:\n",
    "                image1, image2 = load_mismatch_images(row['name1'], row['imagenum1'], row['name2'], row['imagenum2'])\n",
    "                label = 0\n",
    "            else:\n",
    "                print(f\"Unknown row format: {row}\")\n",
    "                continue\n",
    "            # Assuming load functions return images as tensors\n",
    "            images1.append(image1)\n",
    "            images2.append(image2)\n",
    "            labels.append(label)\n",
    "        \n",
    "        # Convert lists to tensors and yield them as a tuple\n",
    "        yield torch.stack(images1), torch.stack(images2), torch.tensor(labels)\n"
   ]
  },
  {
   "cell_type": "markdown",
   "id": "6e566ed2",
   "metadata": {},
   "source": [
    "## Initializing The Network"
   ]
  },
  {
   "cell_type": "code",
   "execution_count": 13,
   "id": "06e131d2",
   "metadata": {},
   "outputs": [],
   "source": [
    "class SiameseCNN(nn.Module):\n",
    "    def __init__(self):\n",
    "        super(SiameseCNN, self).__init__()\n",
    "        \n",
    "        self.cnn = nn.Sequential(\n",
    "            nn.Conv2d(1, 64, kernel_size=10),     #(1, 250, 250) → (64, 241, 241)\n",
    "            nn.ReLU(),\n",
    "            nn.MaxPool2d(2, stride=2),                      #(64, 120, 120)\n",
    "\n",
    "            nn.Conv2d(64, 128, kernel_size=7),    #(128, 114, 114)\n",
    "            nn.ReLU(),\n",
    "            nn.MaxPool2d(2, stride=2),                      #(128, 57, 57)\n",
    "\n",
    "            nn.Conv2d(128, 128, kernel_size=4),   #(128,54, 54)\n",
    "            nn.ReLU(),\n",
    "            nn.MaxPool2d(2),                      #(128, 27, 27)\n",
    "\n",
    "            nn.Conv2d(128, 256, kernel_size=4),   #(256, 24, 24)\n",
    "            nn.ReLU(),\n",
    "            nn.Flatten()\n",
    "        )\n",
    "\n",
    "    def forward(self, X):\n",
    "        return self.cnn(X)\n",
    "    \n",
    "    \n",
    "\n",
    "\n",
    "class TwinsCNN(nn.Module):\n",
    "    def __init__(self):\n",
    "        super(TwinsCNN, self).__init__()\n",
    "        \n",
    "        # Share the same SiameseCNN instance for both branches\n",
    "        self.scnn1 = SiameseCNN()\n",
    "        self.scnn2 = self.scnn1  # Use the same SiameseCNN instance for shared weights\n",
    "\n",
    "        self.fc = nn.Sequential(\n",
    "            nn.Linear(256 * 24 * 24, 1),\n",
    "            nn.Sigmoid()  # As used in the original paper\n",
    "        )\n",
    "        \n",
    "    def forward(self, X1, X2):\n",
    "        out1 = self.scnn1(X1)\n",
    "        out2 = self.scnn2(X2)  # Same weights are used here due to reference\n",
    "        out = torch.abs(out1 - out2)\n",
    "        out = out.view(out.size(0), -1)\n",
    "        return self.fc(out)\n",
    "    \n",
    "    def predict(self, X1, X2):\n",
    "        out1 = self.scnn1(X1)\n",
    "        out2 = self.scnn2(X2)  # Same weights are used here due to reference\n",
    "        out = torch.abs(out1 - out2)\n",
    "        out = out.view(out.size(0), -1)\n",
    "        return torch.sigmoid(out)\n"
   ]
  },
  {
   "cell_type": "markdown",
   "id": "2d78bf95",
   "metadata": {},
   "source": [
    "## Training Method"
   ]
  },
  {
   "cell_type": "code",
   "execution_count": 16,
   "id": "7dd8865d",
   "metadata": {},
   "outputs": [],
   "source": [
    "def l2_regularization(model, lambda_l2=0.01):\n",
    "    l2_loss = 0.0\n",
    "    for param in model.parameters():\n",
    "        l2_loss += torch.sum(param ** 2)  # L2 regularization (sum of squared parameters)\n",
    "    return lambda_l2 * l2_loss\n",
    "\n",
    "\n",
    "def train(model, train_loader, val_loader, loss_fn, optimizer, device, l2_lambda=0.01, epochs=10):\n",
    "    model.to(device)\n",
    "    train_losses = []\n",
    "    val_losses = []\n",
    "    val_accuracies = []\n",
    "    \n",
    "    for epoch in range(epochs):\n",
    "        model.train()  # set to training mode\n",
    "        train_loss = 0\n",
    "        num_batches = 0\n",
    "        for inputs1, inputs2, targets in train_loader:  # inputs1 and inputs2 are the image pairs\n",
    "            inputs1, inputs2, targets = inputs1.to(device), inputs2.to(device), targets.to(device)\n",
    "            num_batches += 1\n",
    "            optimizer.zero_grad()               \n",
    "            outputs = model(inputs1, inputs2)  # Pass both inputs (image pairs) to the model\n",
    "            loss = loss_fn(outputs, targets) + l2_regularization(model, l2_lambda) \n",
    "            loss.backward()                     \n",
    "            optimizer.step()                    \n",
    "\n",
    "            train_loss += loss.item()\n",
    "\n",
    "        avg_train_loss = train_loss / num_batches\n",
    "\n",
    "        # Validation\n",
    "        model.eval()\n",
    "        val_loss = 0\n",
    "        correct = 0\n",
    "        total = 0\n",
    "        with torch.no_grad():\n",
    "            num_batches = 0\n",
    "            for inputs1, inputs2, targets in val_loader:\n",
    "                inputs1, inputs2, targets = inputs1.to(device), inputs2.to(device), targets.to(device)\n",
    "                num_batches += 1\n",
    "                outputs = model(inputs1, inputs2)\n",
    "                loss = loss_fn(outputs, targets) + l2_regularization(model, l2_lambda)\n",
    "                val_loss += loss.item()\n",
    "\n",
    "                _, predicted = outputs.max(1)\n",
    "                total += targets.size(0)\n",
    "                correct += predicted.eq(targets).sum().item()\n",
    "\n",
    "        avg_val_loss = val_loss / num_batches\n",
    "        accuracy = 100. * correct / total\n",
    "        val_accuracies.append(accuracy)\n",
    "        val_losses.append(avg_val_loss)\n",
    "        train_losses.append(avg_train_loss)\n",
    "\n",
    "        print(f\"Epoch {epoch+1}/{epochs} \"\n",
    "              f\"Train Loss: {avg_train_loss:.4f} \"\n",
    "              f\"Val Loss: {avg_val_loss:.4f} \"\n",
    "              f\"Val Accuracy: {accuracy:.2f}%\")\n",
    "\n",
    "    return train_losses, val_losses, val_accuracies\n"
   ]
  },
  {
   "cell_type": "markdown",
   "id": "3d22920f",
   "metadata": {},
   "source": [
    "## Actual Training"
   ]
  },
  {
   "cell_type": "code",
   "execution_count": 18,
   "id": "03424ea2",
   "metadata": {},
   "outputs": [
    {
     "ename": "TypeError",
     "evalue": "expected Tensor as element 69 in argument 0, but got Image",
     "output_type": "error",
     "traceback": [
      "\u001b[0;31m---------------------------------------------------------------------------\u001b[0m",
      "\u001b[0;31mTypeError\u001b[0m                                 Traceback (most recent call last)",
      "Cell \u001b[0;32mIn[18], line 10\u001b[0m\n\u001b[1;32m      8\u001b[0m optimizer \u001b[38;5;241m=\u001b[39m torch\u001b[38;5;241m.\u001b[39moptim\u001b[38;5;241m.\u001b[39mAdam(model\u001b[38;5;241m.\u001b[39mparameters(), lr\u001b[38;5;241m=\u001b[39m\u001b[38;5;241m0.001\u001b[39m)\n\u001b[1;32m      9\u001b[0m loss_fn \u001b[38;5;241m=\u001b[39m nn\u001b[38;5;241m.\u001b[39mBCELoss()\n\u001b[0;32m---> 10\u001b[0m train_losses, val_losses, val_accuracies \u001b[38;5;241m=\u001b[39m \u001b[43mtrain\u001b[49m\u001b[43m(\u001b[49m\n\u001b[1;32m     11\u001b[0m \u001b[43m    \u001b[49m\u001b[43mmodel\u001b[49m\u001b[43m,\u001b[49m\n\u001b[1;32m     12\u001b[0m \u001b[43m    \u001b[49m\u001b[43mtrain_loader\u001b[49m\u001b[43m,\u001b[49m\n\u001b[1;32m     13\u001b[0m \u001b[43m    \u001b[49m\u001b[43mval_loader\u001b[49m\u001b[43m,\u001b[49m\n\u001b[1;32m     14\u001b[0m \u001b[43m    \u001b[49m\u001b[43mloss_fn\u001b[49m\u001b[43m,\u001b[49m\n\u001b[1;32m     15\u001b[0m \u001b[43m    \u001b[49m\u001b[43moptimizer\u001b[49m\u001b[43m,\u001b[49m\n\u001b[1;32m     16\u001b[0m \u001b[43m    \u001b[49m\u001b[43mdevice\u001b[49m\u001b[43m,\u001b[49m\n\u001b[1;32m     17\u001b[0m \u001b[43m    \u001b[49m\u001b[43ml2_lambda\u001b[49m\u001b[38;5;241;43m=\u001b[39;49m\u001b[38;5;241;43m0.01\u001b[39;49m\u001b[43m,\u001b[49m\n\u001b[1;32m     18\u001b[0m \u001b[43m    \u001b[49m\u001b[43mepochs\u001b[49m\u001b[38;5;241;43m=\u001b[39;49m\u001b[38;5;241;43m10\u001b[39;49m\n\u001b[1;32m     19\u001b[0m \u001b[43m)\u001b[49m\n",
      "Cell \u001b[0;32mIn[16], line 18\u001b[0m, in \u001b[0;36mtrain\u001b[0;34m(model, train_loader, val_loader, loss_fn, optimizer, device, l2_lambda, epochs)\u001b[0m\n\u001b[1;32m     16\u001b[0m train_loss \u001b[38;5;241m=\u001b[39m \u001b[38;5;241m0\u001b[39m\n\u001b[1;32m     17\u001b[0m num_batches \u001b[38;5;241m=\u001b[39m \u001b[38;5;241m0\u001b[39m\n\u001b[0;32m---> 18\u001b[0m \u001b[38;5;28;01mfor\u001b[39;00m inputs1, inputs2, targets \u001b[38;5;129;01min\u001b[39;00m train_loader:  \u001b[38;5;66;03m# inputs1 and inputs2 are the image pairs\u001b[39;00m\n\u001b[1;32m     19\u001b[0m     inputs1, inputs2, targets \u001b[38;5;241m=\u001b[39m inputs1\u001b[38;5;241m.\u001b[39mto(device), inputs2\u001b[38;5;241m.\u001b[39mto(device), targets\u001b[38;5;241m.\u001b[39mto(device)\n\u001b[1;32m     20\u001b[0m     num_batches \u001b[38;5;241m+\u001b[39m\u001b[38;5;241m=\u001b[39m \u001b[38;5;241m1\u001b[39m\n",
      "Cell \u001b[0;32mIn[8], line 27\u001b[0m, in \u001b[0;36mmake_minibatches\u001b[0;34m(df, batch_size)\u001b[0m\n\u001b[1;32m     24\u001b[0m     labels\u001b[38;5;241m.\u001b[39mappend(label)\n\u001b[1;32m     26\u001b[0m \u001b[38;5;66;03m# Convert lists to tensors and yield them as a tuple\u001b[39;00m\n\u001b[0;32m---> 27\u001b[0m \u001b[38;5;28;01myield\u001b[39;00m \u001b[43mtorch\u001b[49m\u001b[38;5;241;43m.\u001b[39;49m\u001b[43mstack\u001b[49m\u001b[43m(\u001b[49m\u001b[43mimages1\u001b[49m\u001b[43m)\u001b[49m, torch\u001b[38;5;241m.\u001b[39mstack(images2), torch\u001b[38;5;241m.\u001b[39mtensor(labels)\n",
      "\u001b[0;31mTypeError\u001b[0m: expected Tensor as element 69 in argument 0, but got Image"
     ]
    }
   ],
   "source": [
    "model = TwinsCNN()\n",
    "device = torch.device(\"cuda\" if torch.cuda.is_available() else \"cpu\")\n",
    "batch_size = 128\n",
    "train_loader = make_minibatches(match_dev_train_df, batch_size)\n",
    "val_loader = make_minibatches(match_dev_val_df, batch_size)\n",
    "\n",
    "\n",
    "optimizer = torch.optim.Adam(model.parameters(), lr=0.001)\n",
    "loss_fn = nn.BCELoss()\n",
    "train_losses, val_losses, val_accuracies = train(\n",
    "    model,\n",
    "    train_loader,\n",
    "    val_loader,\n",
    "    loss_fn,\n",
    "    optimizer,\n",
    "    device,\n",
    "    l2_lambda=0.01,\n",
    "    epochs=10\n",
    ")\n"
   ]
  }
 ],
 "metadata": {
  "kernelspec": {
   "display_name": "Python 3",
   "language": "python",
   "name": "python3"
  },
  "language_info": {
   "codemirror_mode": {
    "name": "ipython",
    "version": 3
   },
   "file_extension": ".py",
   "mimetype": "text/x-python",
   "name": "python",
   "nbconvert_exporter": "python",
   "pygments_lexer": "ipython3",
   "version": "3.9.21"
  }
 },
 "nbformat": 4,
 "nbformat_minor": 5
}
