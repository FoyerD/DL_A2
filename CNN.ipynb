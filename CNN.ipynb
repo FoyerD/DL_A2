{
 "cells": [
  {
   "cell_type": "code",
   "execution_count": null,
   "id": "a47d574b",
   "metadata": {},
   "outputs": [],
   "source": [
    "import pandas as pd\n",
    "import torch.nn as nn\n",
    "import os\n",
    "from sklearn.model_selection import train_test_split\n",
    "from PIL import Image\n",
    "from matplotlib import transforms\n",
    "import torch\n",
    "import torch.nn.functional as F"
   ]
  },
  {
   "cell_type": "markdown",
   "id": "27512ef1",
   "metadata": {},
   "source": [
    "# Load The Dataset"
   ]
  },
  {
   "cell_type": "markdown",
   "id": "93232086",
   "metadata": {},
   "source": [
    "### Paths"
   ]
  },
  {
   "cell_type": "code",
   "execution_count": null,
   "id": "d8482292",
   "metadata": {},
   "outputs": [],
   "source": [
    "dataset_path = \"lfw\"\n",
    "images_path = os.path.join(dataset_path, \"lfw-deepfunneled\", \"lfw-deepfunneled\")\n",
    "\n",
    "match_dev_test_path = os.path.join(dataset_path, \"matchpairsDevTest.csv\")\n",
    "match_dev_train_path = os.path.join(dataset_path, \"matchpairsDevTrain.csv\")\n",
    "match_dev_val_path = os.path.join(dataset_path, \"matchpairsDevVal.csv\")\n",
    "\n",
    "mismatch_dev_test_path = os.path.join(dataset_path, \"mismatchpairsDevTest.csv\")\n",
    "mismatch_dev_train_path = os.path.join(dataset_path, \"mismatchpairsDevTrain.csv\")\n",
    "mismatch_dev_val_path = os.path.join(dataset_path, \"mismatchpairsDevVal.csv\")\n"
   ]
  },
  {
   "cell_type": "markdown",
   "id": "2da9317b",
   "metadata": {},
   "source": [
    "## Load The Data"
   ]
  },
  {
   "cell_type": "code",
   "execution_count": null,
   "id": "cddde338",
   "metadata": {},
   "outputs": [
    {
     "ename": "",
     "evalue": "",
     "output_type": "error",
     "traceback": [
      "\u001b[1;31mThe Kernel crashed while executing code in the current cell or a previous cell. \n",
      "\u001b[1;31mPlease review the code in the cell(s) to identify a possible cause of the failure. \n",
      "\u001b[1;31mClick <a href='https://aka.ms/vscodeJupyterKernelCrash'>here</a> for more info. \n",
      "\u001b[1;31mView Jupyter <a href='command:jupyter.viewOutput'>log</a> for further details."
     ]
    }
   ],
   "source": [
    "match_dev_test_df = pd.read_csv(match_dev_test_path)\n",
    "match_dev_train_df = pd.read_csv(match_dev_train_path)\n",
    "mismatch_dev_test_df = pd.read_csv(mismatch_dev_test_path)\n",
    "mismatch_dev_train_df = pd.read_csv(mismatch_dev_train_path)"
   ]
  },
  {
   "cell_type": "markdown",
   "id": "be3e817e",
   "metadata": {},
   "source": [
    "### Split Into Validation Set"
   ]
  },
  {
   "cell_type": "code",
   "execution_count": null,
   "id": "ebc02cdd",
   "metadata": {},
   "outputs": [],
   "source": [
    "match_dev_train_df, match_dev_val_df = train_test_split(\n",
    "    match_dev_train_df, test_size=0.2, random_state=42\n",
    ")\n",
    "mismatch_dev_train_df, mismatch_dev_val_df = train_test_split(\n",
    "    mismatch_dev_train_df, test_size=0.2, random_state=42\n",
    ")"
   ]
  },
  {
   "cell_type": "markdown",
   "id": "e18d5457",
   "metadata": {},
   "source": [
    "### Loading The Images"
   ]
  },
  {
   "cell_type": "code",
   "execution_count": null,
   "id": "e93b9f56",
   "metadata": {},
   "outputs": [],
   "source": [
    "# Create a dictionary to store the images\n",
    "images_memo = {}"
   ]
  },
  {
   "cell_type": "code",
   "execution_count": null,
   "id": "ce06dbc7",
   "metadata": {},
   "outputs": [],
   "source": [
    "transform = transforms.Compose([\n",
    "    transforms.Resize((250, 250)),       # Resize to match model input\n",
    "    transforms.ToTensor(),               # Converts to [C, H, W] tensor and scales to [0, 1]\n",
    "    transforms.Normalize(                # Normalize with ImageNet mean/std if using pretrained model\n",
    "        mean=[0.485, 0.456, 0.406],      \n",
    "        std=[0.229, 0.224, 0.225]\n",
    "    )\n",
    "])\n",
    "\n",
    "def load_mismatch_images(person1, image1, person2, image2):\n",
    "    if(person1, image1) not in images_memo:\n",
    "        image1_path = os.path.join(images_path, person1, f\"{person1}{image1:04d}.jpg\")\n",
    "        image1 = Image.open(image1_path).convert('RGB')\n",
    "        images_memo[(person1, image1)] = transform(image1)\n",
    "    if(person2, image2) not in images_memo:\n",
    "        image2_path = os.path.join(images_path, person2, f\"{person2}{image2:04d}.jpg\")\n",
    "        image2 = Image.open(image2_path).convert('RGB')\n",
    "        images_memo[(person2, image2)] = transform(image2)\n",
    "    \n",
    "    \n",
    "    return images_memo[(person1, image1)], images_memo[(person2, image2)]\n",
    "\n",
    "\n",
    "def load_match_images(person, image1, image2):\n",
    "    if(person, image1) not in images_memo:\n",
    "        image1_path = os.path.join(images_path, person, f\"{person}{image1:04d}.jpg\")\n",
    "        image1 = Image.open(image1_path).convert('RGB')\n",
    "        images_memo[(person, image1)] = transform(image1)\n",
    "    if(person, image2) not in images_memo:\n",
    "        image2_path = os.path.join(images_path, person, f\"{person}{image2:04d}.jpg\")\n",
    "        image2 = Image.open(image2_path).convert('RGB')\n",
    "        images_memo[(person, image2)] = transform(image2)\n",
    "    \n",
    "    return images_memo[(person, image1)], images_memo[(person, image2)]"
   ]
  },
  {
   "cell_type": "code",
   "execution_count": null,
   "id": "ea9c7d78",
   "metadata": {},
   "outputs": [],
   "source": [
    "def make_minibatches(df, batch_size, is_match=True):\n",
    "    \"\"\"\n",
    "    Create minibatches from the dataframe.\n",
    "    \"\"\"\n",
    "    for i in range(0, len(df), batch_size):\n",
    "        batch_df = df.iloc[i:i + batch_size]\n",
    "        images1 = []\n",
    "        images2 = []\n",
    "        labels = []\n",
    "        \n",
    "        for _, row in batch_df.iterrows():\n",
    "            if is_match:\n",
    "                image1, image2 = load_match_images(row['person'], row['image1'], row['image2'])\n",
    "                label = 1\n",
    "            else:\n",
    "                image1, image2 = load_mismatch_images(row['person1'], row['image1'], row['person2'], row['image2'])\n",
    "                label = 0\n",
    "            \n",
    "            images1.append(image1)\n",
    "            images2.append(image2)\n",
    "            labels.append(label)\n",
    "        \n",
    "        yield torch.stack(images1), torch.stack(images2), torch.tensor(labels)"
   ]
  },
  {
   "cell_type": "markdown",
   "id": "6e566ed2",
   "metadata": {},
   "source": [
    "## Initializing The Network"
   ]
  },
  {
   "cell_type": "code",
   "execution_count": null,
   "id": "06e131d2",
   "metadata": {},
   "outputs": [],
   "source": [
    "class SiameseCNN(nn.Module):\n",
    "    def __init__(self):\n",
    "        super(SiameseCNN, self).__init__()\n",
    "        \n",
    "        self.cnn = nn.Sequential(\n",
    "            nn.Conv2d(1, 64, kernel_size=10),     #(1, 105, 105) → (64, 96, 96)\n",
    "            nn.ReLU(),\n",
    "            nn.MaxPool2d(2),                      #(64, 48, 48)\n",
    "\n",
    "            nn.Conv2d(64, 128, kernel_size=7),    #(128, 42, 42)\n",
    "            nn.ReLU(),\n",
    "            nn.MaxPool2d(2),                      #(128, 21, 21)\n",
    "\n",
    "            nn.Conv2d(128, 128, kernel_size=4),   #(128, 18, 18)\n",
    "            nn.ReLU(),\n",
    "            nn.MaxPool2d(2),                      #(128, 9, 9)\n",
    "\n",
    "            nn.Conv2d(128, 256, kernel_size=4),   #(256, 6, 6)\n",
    "            nn.ReLU()\n",
    "        )\n",
    "        \n",
    "        self.fc = nn.Sequential(\n",
    "            nn.Flatten(),\n",
    "            nn.Linear(256 * 6 * 6, 4096),\n",
    "            nn.Sigmoid()  # As used in the original paper\n",
    "        )\n",
    "\n",
    "    def forward(self, x):\n",
    "        x = self.cnn(x)\n",
    "        x = self.fc(x)\n",
    "        return x\n"
   ]
  }
 ],
 "metadata": {
  "kernelspec": {
   "display_name": "Python 3",
   "language": "python",
   "name": "python3"
  },
  "language_info": {
   "codemirror_mode": {
    "name": "ipython",
    "version": 3
   },
   "file_extension": ".py",
   "mimetype": "text/x-python",
   "name": "python",
   "nbconvert_exporter": "python",
   "pygments_lexer": "ipython3",
   "version": "3.9.21"
  }
 },
 "nbformat": 4,
 "nbformat_minor": 5
}
